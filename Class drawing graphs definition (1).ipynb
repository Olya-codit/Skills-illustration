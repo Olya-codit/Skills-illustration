{
 "cells": [
  {
   "cell_type": "code",
   "execution_count": 5,
   "metadata": {},
   "outputs": [],
   "source": [
    "import csv\n",
    "from collections import Counter\n",
    "from matplotlib import pyplot\n",
    "class BaseGraph:\n",
    "    def __init__(self, file_name):\n",
    "        self.file_name = file_name\n",
    "        self.films = []\n",
    "\n",
    "    def read_csv(self):\n",
    "        self.films = []\n",
    "        with open('films.csv') as csv_file:\n",
    "            csv_reader = csv.DictReader(csv_file)\n",
    "            for row in csv_reader:         \n",
    "                film_name = row['Film']\n",
    "                genre = row['Genre']\n",
    "                lead_studio = row['Lead Studio']\n",
    "                audience_score = row['Audience score %']\n",
    "                profit = row['Profit']\n",
    "                year = row['Year']            \n",
    "                self.films.append({'film_name': film_name,\n",
    "                            'genre': genre,\n",
    "                            'lead_studio': lead_studio,\n",
    "                            'audience_score': audience_score,\n",
    "                            'profit': profit,\n",
    "                            'year': year})            \n",
    "        print(\"End of reading CSV file\")\n",
    "    \n",
    "    def plot(self):\n",
    "        #How many films in 2002, how many films in 2005, ....\n",
    "        years = [int(film['year']) for film in self.films]\n",
    "        counters = Counter(years)\n",
    "        filtered_years = []\n",
    "        number_of_films = []\n",
    "        for key in counters.keys():\n",
    "            filtered_years.append(key)\n",
    "            number_of_films.append(counters.get(key))\n",
    "        pyplot.plot(filtered_years, number_of_films, \n",
    "                    color='blue',\n",
    "                    label=\"Films / years\"\n",
    "                    )\n",
    "        pyplot.xlabel('year.number') \n",
    "        pyplot.ylabel('y') \n",
    "        pyplot.title(label=\"Films\",\n",
    "          fontsize=40,\n",
    "          color=\"green\")\n",
    "        pyplot.show()       "
   ]
  },
  {
   "cell_type": "code",
   "execution_count": 7,
   "metadata": {},
   "outputs": [
    {
     "name": "stdout",
     "output_type": "stream",
     "text": [
      "End of reading CSV file\n"
     ]
    },
    {
     "data": {
      "image/png": "[encoded data removed]",
      "text/plain": [
       "<Figure size 432x288 with 1 Axes>"
      ]
     },
     "metadata": {
      "needs_background": "light"
     },
     "output_type": "display_data"
    }
   ],
   "source": [
    "csv_reader = BaseGraph(\"films.csv\")\n",
    "csv_reader.read_csv()\n",
    "csv_reader.plot()"
   ]
  },
  {
   "cell_type": "code",
   "execution_count": 15,
   "metadata": {},
   "outputs": [],
   "source": [
    "class BarGraph(BaseGraph):\n",
    "    def __init__(self, file_name):\n",
    "        self.file_name = file_name\n",
    "        self.films = []\n",
    "\n",
    "    def read_csv(self):\n",
    "        self.films = []\n",
    "        with open('films.csv') as csv_file:\n",
    "            csv_reader = csv.DictReader(csv_file)\n",
    "            for row in csv_reader:         \n",
    "                film_name = row['Film']\n",
    "                genre = row['Genre']\n",
    "                lead_studio = row['Lead Studio']\n",
    "                audience_score = row['Audience score %']\n",
    "                profit = row['Profit']\n",
    "                year = row['Year']            \n",
    "                self.films.append({'film_name': film_name,\n",
    "                            'genre': genre,\n",
    "                            'lead_studio': lead_studio,\n",
    "                            'audience_score': audience_score,\n",
    "                            'profit': profit,\n",
    "                            'year': year})            \n",
    "        print(\"End of reading CSV file\")\n",
    "    \n",
    "    def plot(self):\n",
    "        #How many films in 2002, how many films in 2005, ....\n",
    "        years = [int(film['year']) for film in self.films]\n",
    "        counters = Counter(years)\n",
    "        filtered_years = []\n",
    "        number_of_films = []\n",
    "        for key in counters.keys():\n",
    "            filtered_years.append(key)\n",
    "            number_of_films.append(counters.get(key))\n",
    "        pyplot.barh(filtered_years, number_of_films, \n",
    "                    color='blue',\n",
    "                    label=\"Films / years\"\n",
    "                    )\n",
    "        pyplot.xlabel('year.number') \n",
    "        pyplot.ylabel('y') \n",
    "        pyplot.title(label=\"Films\",\n",
    "          fontsize=40,\n",
    "          color=\"green\")\n",
    "        pyplot.show()       "
   ]
  },
  {
   "cell_type": "code",
   "execution_count": 16,
   "metadata": {},
   "outputs": [
    {
     "name": "stdout",
     "output_type": "stream",
     "text": [
      "End of reading CSV file\n"
     ]
    },
    {
     "data": {
      "image/png": "[encoded data removed]",
      "text/plain": [
       "<Figure size 432x288 with 1 Axes>"
      ]
     },
     "metadata": {
      "needs_background": "light"
     },
     "output_type": "display_data"
    }
   ],
   "source": [
    "csv_reader = BarGraph(\"films.csv\")\n",
    "csv_reader.read_csv()\n",
    "csv_reader.plot()"
   ]
  },
  {
   "cell_type": "code",
   "execution_count": null,
   "metadata": {},
   "outputs": [],
   "source": []
  }
 ],
 "metadata": {
  "kernelspec": {
   "display_name": "Python 3",
   "language": "python",
   "name": "python3"
  },
  "language_info": {
   "codemirror_mode": {
    "name": "ipython",
    "version": 3
   },
   "file_extension": ".py",
   "mimetype": "text/x-python",
   "name": "python",
   "nbconvert_exporter": "python",
   "pygments_lexer": "ipython3",
   "version": "3.8.5"
  }
 },
 "nbformat": 4,
 "nbformat_minor": 4
}
